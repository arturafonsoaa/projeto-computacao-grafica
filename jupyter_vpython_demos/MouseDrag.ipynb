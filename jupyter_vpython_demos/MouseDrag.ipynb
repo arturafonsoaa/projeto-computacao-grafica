{
 "cells": [
  {
   "cell_type": "code",
   "execution_count": null,
   "metadata": {
    "collapsed": false
   },
   "outputs": [],
   "source": [
    "from vpython import *\n",
    "# John Coady\n",
    "\n",
    "title = \"Click and drag the mouse in the 3D canvas to insert and drag a small sphere.\"\n",
    "scene.title = title\n",
    "\n",
    "scene.range = 3\n",
    "\n",
    "b = box(pos=vector(0,0,0), color=color.green)\n",
    "\n",
    "drag = False\n",
    "s = None\n",
    "\n",
    "def grab(evt):\n",
    "    global s, drag\n",
    "    scene.title = 'Drag the sphere.'\n",
    "    drag = True\n",
    "    s = sphere(pos=evt.pos, radius=0.1, color=color.red)\n",
    "\n",
    "def move(evt):\n",
    "    if drag:\n",
    "        s.pos = evt.pos\n",
    "        \n",
    "def drop(evt):\n",
    "    global drag\n",
    "    scene.title = title\n",
    "    s.color = color.cyan\n",
    "    drag = False\n",
    "\n",
    "scene.bind('mousedown',grab)\n",
    "scene.bind('mousemove',move)\n",
    "scene.bind('mouseup',drop)"
   ]
  },
  {
   "cell_type": "code",
   "execution_count": null,
   "metadata": {
    "collapsed": true
   },
   "outputs": [],
   "source": []
  }
 ],
 "metadata": {
  "anaconda-cloud": {},
  "kernelspec": {
   "display_name": "VPython",
   "language": "python",
   "name": "vpython"
  },
  "language_info": {
   "codemirror_mode": {
    "name": "ipython",
    "version": 3
   },
   "file_extension": ".py",
   "mimetype": "text/x-python",
   "name": "python",
   "nbconvert_exporter": "python",
   "pygments_lexer": "ipython3",
   "version": "3.6.0"
  }
 },
 "nbformat": 4,
 "nbformat_minor": 0
}
